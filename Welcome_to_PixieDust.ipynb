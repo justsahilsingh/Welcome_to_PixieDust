{
  "cells": [
    {
      "metadata": {
        "scrolled": true,
        "id": "YTz1OQLzyBWD",
        "outputId": "c2e91926-3f65-40c7-bd7e-f0d962c2dddd"
      },
      "cell_type": "code",
      "source": [
        "# To confirm you have the latest version of PixieDust on your system, run this cell\n",
        "!pip install -U --no-deps pixiedust"
      ],
      "execution_count": null,
      "outputs": [
        {
          "output_type": "stream",
          "text": "Collecting pixiedust\n  Downloading pixiedust-1.1.19.tar.gz (197 kB)\n\u001b[2K     \u001b[90m━━━━━━━━━━━━━━━━━━━━━━━━━━━━━━━━━━━━━━\u001b[0m \u001b[32m197.6/197.6 kB\u001b[0m \u001b[31m20.6 MB/s\u001b[0m eta \u001b[36m0:00:00\u001b[0m\n\u001b[?25h  Preparing metadata (setup.py) ... \u001b[?25ldone\n\u001b[?25hBuilding wheels for collected packages: pixiedust\n  Building wheel for pixiedust (setup.py) ... \u001b[?25ldone\n\u001b[?25h  Created wheel for pixiedust: filename=pixiedust-1.1.19-py3-none-any.whl size=321804 sha256=ac58f777a462b290440adba095b2689046f4aad9d830ae4e0a50904c5e7f9374\n  Stored in directory: /tmp/wsuser/.cache/pip/wheels/e7/c8/bb/ea11f2bc243510793a9156bdd7ca8c8af0cb9890a714dd9453\nSuccessfully built pixiedust\nInstalling collected packages: pixiedust\nSuccessfully installed pixiedust-1.1.19\n",
          "name": "stdout"
        }
      ]
    },
    {
      "metadata": {
        "id": "ugo3dNttyBWE"
      },
      "cell_type": "markdown",
      "source": [
        "Now that you have PixieDust installed and up-to-date on your system, you need to import it into this notebook. This is the last dependency before you can play with PixieDust."
      ]
    },
    {
      "metadata": {
        "id": "XvumRLYMyBWE",
        "outputId": "91a19fb0-a202-4369-8710-74fd7f60bb43"
      },
      "cell_type": "code",
      "source": [
        "import pixiedust"
      ],
      "execution_count": null,
      "outputs": [
        {
          "output_type": "stream",
          "text": "Pixiedust database opened successfully\nTable VERSION_TRACKER created successfully\nTable METRICS_TRACKER created successfully\n\nShare anonymous install statistics? (opt-out instructions)\n\nPixieDust will record metadata on its environment the next time the package is installed or updated. The data is anonymized and aggregated to help plan for future releases, and records only the following values:\n\n{\n   \"data_sent\": currentDate,\n   \"runtime\": \"python\",\n   \"application_version\": currentPixiedustVersion,\n   \"space_id\": nonIdentifyingUniqueId,\n   \"config\": {\n       \"repository_id\": \"https://github.com/ibm-watson-data-lab/pixiedust\",\n       \"target_runtimes\": [\"Data Science Experience\"],\n       \"event_id\": \"web\",\n       \"event_organizer\": \"dev-journeys\"\n   }\n}\nYou can opt out by calling pixiedust.optOut() in a new cell.\n\u001b[31mPixiedust runtime updated. Please restart kernel\u001b[0m\nTable USER_PREFERENCES created successfully\nTable service_connections created successfully\nUnable to check latest version The 'colour' distribution was not found and is required by pixiedust\n",
          "name": "stdout"
        }
      ]
    },
    {
      "metadata": {
        "id": "Vn8G_wtEyBWE"
      },
      "cell_type": "markdown",
      "source": [
        "If you get a message telling you that you're not running the latest version of PixieDust, restart the kernel from the **Kernel** menu and rerun the `import pixiedust` command. (Any time you restart the kernel, rerun the `import pixiedust` command.)"
      ]
    },
    {
      "metadata": {
        "scrolled": false,
        "id": "vSh0WKNOyBWE",
        "outputId": "884f3453-bb42-4eab-f4da-946102ab6ef1"
      },
      "cell_type": "code",
      "source": [
        "pip install pyspark"
      ],
      "execution_count": null,
      "outputs": [
        {
          "output_type": "stream",
          "text": "Collecting pyspark\n  Downloading pyspark-3.4.0.tar.gz (310.8 MB)\n\u001b[2K     \u001b[90m━━━━━━━━━━━━━━━━━━━━━━━━━━━━━━━━━━━━━━━\u001b[0m \u001b[32m310.8/310.8 MB\u001b[0m \u001b[31m7.1 MB/s\u001b[0m eta \u001b[36m0:00:00\u001b[0m00:01\u001b[0m00:01\u001b[0m\n\u001b[?25h  Preparing metadata (setup.py) ... \u001b[?25ldone\n\u001b[?25hRequirement already satisfied: py4j==0.10.9.7 in /opt/conda/envs/Python-3.10/lib/python3.10/site-packages (from pyspark) (0.10.9.7)\nBuilding wheels for collected packages: pyspark\n  Building wheel for pyspark (setup.py) ... \u001b[?25ldone\n\u001b[?25h  Created wheel for pyspark: filename=pyspark-3.4.0-py2.py3-none-any.whl size=311317143 sha256=94402a2c3dd948811a4b1cf29a74249eb80560dc535ef164c3a589ab64668e9a\n  Stored in directory: /tmp/wsuser/.cache/pip/wheels/7b/1b/4b/3363a1d04368e7ff0d408e57ff57966fcdf00583774e761327\nSuccessfully built pyspark\nInstalling collected packages: pyspark\nSuccessfully installed pyspark-3.4.0\nNote: you may need to restart the kernel to use updated packages.\n",
          "name": "stdout"
        }
      ]
    },
    {
      "metadata": {
        "scrolled": true,
        "id": "GwfgQi9AyBWE",
        "outputId": "a5e2cf92-1e21-4c62-ac75-55e0f7f4c2fb"
      },
      "cell_type": "code",
      "source": [
        "# Build the SQL context required to create a Spark dataframe\n",
        "from pyspark.sql import SQLContext\n",
        "sqlContext=SQLContext(sc)\n",
        "# Create the Spark dataframe, passing in some data, and assign it to a variable\n",
        "df = spark.createDataFrame(\n",
        "[(\"Cats\", 75),\n",
        " (\"Dogs\", 25)],\n",
        "[\"Pets\",\"%\"])"
      ],
      "execution_count": null,
      "outputs": [
        {
          "output_type": "error",
          "ename": "NameError",
          "evalue": "name 'sc' is not defined",
          "traceback": [
            "\u001b[0;31m---------------------------------------------------------------------------\u001b[0m",
            "\u001b[0;31mNameError\u001b[0m                                 Traceback (most recent call last)",
            "Input \u001b[0;32mIn [5]\u001b[0m, in \u001b[0;36m<cell line: 3>\u001b[0;34m()\u001b[0m\n\u001b[1;32m      1\u001b[0m \u001b[38;5;66;03m# Build the SQL context required to create a Spark dataframe \u001b[39;00m\n\u001b[1;32m      2\u001b[0m \u001b[38;5;28;01mfrom\u001b[39;00m \u001b[38;5;21;01mpyspark\u001b[39;00m\u001b[38;5;21;01m.\u001b[39;00m\u001b[38;5;21;01msql\u001b[39;00m \u001b[38;5;28;01mimport\u001b[39;00m SQLContext\n\u001b[0;32m----> 3\u001b[0m sqlContext\u001b[38;5;241m=\u001b[39mSQLContext(\u001b[43msc\u001b[49m) \n\u001b[1;32m      4\u001b[0m \u001b[38;5;66;03m# Create the Spark dataframe, passing in some data, and assign it to a variable\u001b[39;00m\n\u001b[1;32m      5\u001b[0m df \u001b[38;5;241m=\u001b[39m spark\u001b[38;5;241m.\u001b[39mcreateDataFrame(\n\u001b[1;32m      6\u001b[0m [(\u001b[38;5;124m\"\u001b[39m\u001b[38;5;124mCats\u001b[39m\u001b[38;5;124m\"\u001b[39m, \u001b[38;5;241m75\u001b[39m),\n\u001b[1;32m      7\u001b[0m  (\u001b[38;5;124m\"\u001b[39m\u001b[38;5;124mDogs\u001b[39m\u001b[38;5;124m\"\u001b[39m, \u001b[38;5;241m25\u001b[39m)],\n\u001b[1;32m      8\u001b[0m [\u001b[38;5;124m\"\u001b[39m\u001b[38;5;124mPets\u001b[39m\u001b[38;5;124m\"\u001b[39m,\u001b[38;5;124m\"\u001b[39m\u001b[38;5;124m%\u001b[39m\u001b[38;5;124m\"\u001b[39m])\n",
            "\u001b[0;31mNameError\u001b[0m: name 'sc' is not defined"
          ]
        }
      ]
    },
    {
      "metadata": {
        "id": "d7c_VjnDyBWF"
      },
      "cell_type": "markdown",
      "source": [
        "## Behold, display()\n",
        "\n",
        "In the next cell, build a simple dataset and store it in a variable."
      ]
    },
    {
      "metadata": {
        "id": "3EeTc0llyBWF"
      },
      "cell_type": "markdown",
      "source": [
        "The data in the variable `df` is ready to be visualized, without any further code other than the call to `display()`."
      ]
    },
    {
      "metadata": {
        "pixiedust": {
          "displayParams": {
            "aggregation": "SUM",
            "chartsize": "55",
            "handlerId": "barChart",
            "keyFields": "Pets",
            "rowCount": "100",
            "title": "Pets in this bar chart,by %",
            "valueFields": "%",
            "table_noschema": "false",
            "rendererId": "matplotlib",
            "tableFields": "Colors",
            "table_nosearch": "false",
            "table_nocount": "false",
            "table_showrows": "Missing values"
          }
        },
        "scrolled": false,
        "id": "ruik6VZ1yBWF"
      },
      "cell_type": "code",
      "source": [
        "# display the dataframe above as a bar chart\n",
        "display()"
      ],
      "execution_count": null,
      "outputs": []
    },
    {
      "metadata": {
        "id": "rda6MCfvyBWF"
      },
      "cell_type": "code",
      "source": [],
      "execution_count": null,
      "outputs": []
    },
    {
      "metadata": {
        "id": "6wXPLux7yBWF"
      },
      "cell_type": "markdown",
      "source": [
        "After running the cell above, you should see a Spark DataFrame displayed as a **bar chart**, along with some controls to tweak the display. All that came from passing the DataFrame variable to `display()`.\n",
        "\n",
        "In the next cell, you'll pass more interesting data to `display()`, which will also offer more advanced controls."
      ]
    },
    {
      "metadata": {
        "id": "9O-d58CEyBWF"
      },
      "cell_type": "raw",
      "source": []
    },
    {
      "metadata": {
        "id": "E8sQYpbUyBWG"
      },
      "cell_type": "code",
      "source": [],
      "execution_count": null,
      "outputs": []
    },
    {
      "metadata": {
        "pixiedust": {
          "displayParams": {
            "aggregation": "SUM",
            "chartsize": "78",
            "clusterby": "year",
            "handlerId": "barChart",
            "keyFields": "category",
            "mpld3": "false",
            "rendererId": "matplotlib",
            "rowCount": "100",
            "title": "Customers by Category clustered by Year",
            "valueFields": "unique_customers"
          }
        },
        "id": "thbWqFXoyBWG",
        "outputId": "47043d28-846b-41a4-b16d-518fb7f06e22"
      },
      "cell_type": "code",
      "source": [
        "# create another DataFrame, in a new variable\n",
        "df2 = spark.createDataFrame(\n",
        "[(2010, 'Camping Equipment', 3),\n",
        " (2010, 'Golf Equipment', 1),\n",
        " (2010, 'Mountaineering Equipment', 1),\n",
        " (2010, 'Outdoor Protection', 2),\n",
        " (2010, 'Personal Accessories', 2),\n",
        " (2011, 'Camping Equipment', 4),\n",
        " (2011, 'Golf Equipment', 5),\n",
        " (2011, 'Mountaineering Equipment',2),\n",
        " (2011, 'Outdoor Protection', 4),\n",
        " (2011, 'Personal Accessories', 2),\n",
        " (2012, 'Camping Equipment', 5),\n",
        " (2012, 'Golf Equipment', 5),\n",
        " (2012, 'Mountaineering Equipment', 3),\n",
        " (2012, 'Outdoor Protection', 5),\n",
        " (2012, 'Personal Accessories', 3),\n",
        " (2013, 'Camping Equipment', 8),\n",
        " (2013, 'Golf Equipment', 5),\n",
        " (2013, 'Mountaineering Equipment', 3),\n",
        " (2013, 'Outdoor Protection', 8),\n",
        " (2013, 'Personal Accessories', 4)],\n",
        "[\"year\",\"category\",\"unique_customers\"])\n",
        "\n",
        "# This time, we've combined the dataframe and display() call in the same cell\n",
        "# Run this cell\n",
        "display(df2)"
      ],
      "execution_count": null,
      "outputs": [
        {
          "output_type": "error",
          "ename": "NameError",
          "evalue": "name 'spark' is not defined",
          "traceback": [
            "\u001b[0;31m---------------------------------------------------------------------------\u001b[0m",
            "\u001b[0;31mNameError\u001b[0m                                 Traceback (most recent call last)",
            "Input \u001b[0;32mIn [7]\u001b[0m, in \u001b[0;36m<cell line: 2>\u001b[0;34m()\u001b[0m\n\u001b[1;32m      1\u001b[0m \u001b[38;5;66;03m# create another DataFrame, in a new variable\u001b[39;00m\n\u001b[0;32m----> 2\u001b[0m df2 \u001b[38;5;241m=\u001b[39m \u001b[43mspark\u001b[49m\u001b[38;5;241m.\u001b[39mcreateDataFrame(\n\u001b[1;32m      3\u001b[0m [(\u001b[38;5;241m2010\u001b[39m, \u001b[38;5;124m'\u001b[39m\u001b[38;5;124mCamping Equipment\u001b[39m\u001b[38;5;124m'\u001b[39m, \u001b[38;5;241m3\u001b[39m),\n\u001b[1;32m      4\u001b[0m  (\u001b[38;5;241m2010\u001b[39m, \u001b[38;5;124m'\u001b[39m\u001b[38;5;124mGolf Equipment\u001b[39m\u001b[38;5;124m'\u001b[39m, \u001b[38;5;241m1\u001b[39m),\n\u001b[1;32m      5\u001b[0m  (\u001b[38;5;241m2010\u001b[39m, \u001b[38;5;124m'\u001b[39m\u001b[38;5;124mMountaineering Equipment\u001b[39m\u001b[38;5;124m'\u001b[39m, \u001b[38;5;241m1\u001b[39m),\n\u001b[1;32m      6\u001b[0m  (\u001b[38;5;241m2010\u001b[39m, \u001b[38;5;124m'\u001b[39m\u001b[38;5;124mOutdoor Protection\u001b[39m\u001b[38;5;124m'\u001b[39m, \u001b[38;5;241m2\u001b[39m),\n\u001b[1;32m      7\u001b[0m  (\u001b[38;5;241m2010\u001b[39m, \u001b[38;5;124m'\u001b[39m\u001b[38;5;124mPersonal Accessories\u001b[39m\u001b[38;5;124m'\u001b[39m, \u001b[38;5;241m2\u001b[39m),\n\u001b[1;32m      8\u001b[0m  (\u001b[38;5;241m2011\u001b[39m, \u001b[38;5;124m'\u001b[39m\u001b[38;5;124mCamping Equipment\u001b[39m\u001b[38;5;124m'\u001b[39m, \u001b[38;5;241m4\u001b[39m),\n\u001b[1;32m      9\u001b[0m  (\u001b[38;5;241m2011\u001b[39m, \u001b[38;5;124m'\u001b[39m\u001b[38;5;124mGolf Equipment\u001b[39m\u001b[38;5;124m'\u001b[39m, \u001b[38;5;241m5\u001b[39m),\n\u001b[1;32m     10\u001b[0m  (\u001b[38;5;241m2011\u001b[39m, \u001b[38;5;124m'\u001b[39m\u001b[38;5;124mMountaineering Equipment\u001b[39m\u001b[38;5;124m'\u001b[39m,\u001b[38;5;241m2\u001b[39m),\n\u001b[1;32m     11\u001b[0m  (\u001b[38;5;241m2011\u001b[39m, \u001b[38;5;124m'\u001b[39m\u001b[38;5;124mOutdoor Protection\u001b[39m\u001b[38;5;124m'\u001b[39m, \u001b[38;5;241m4\u001b[39m),\n\u001b[1;32m     12\u001b[0m  (\u001b[38;5;241m2011\u001b[39m, \u001b[38;5;124m'\u001b[39m\u001b[38;5;124mPersonal Accessories\u001b[39m\u001b[38;5;124m'\u001b[39m, \u001b[38;5;241m2\u001b[39m),\n\u001b[1;32m     13\u001b[0m  (\u001b[38;5;241m2012\u001b[39m, \u001b[38;5;124m'\u001b[39m\u001b[38;5;124mCamping Equipment\u001b[39m\u001b[38;5;124m'\u001b[39m, \u001b[38;5;241m5\u001b[39m),\n\u001b[1;32m     14\u001b[0m  (\u001b[38;5;241m2012\u001b[39m, \u001b[38;5;124m'\u001b[39m\u001b[38;5;124mGolf Equipment\u001b[39m\u001b[38;5;124m'\u001b[39m, \u001b[38;5;241m5\u001b[39m),\n\u001b[1;32m     15\u001b[0m  (\u001b[38;5;241m2012\u001b[39m, \u001b[38;5;124m'\u001b[39m\u001b[38;5;124mMountaineering Equipment\u001b[39m\u001b[38;5;124m'\u001b[39m, \u001b[38;5;241m3\u001b[39m),\n\u001b[1;32m     16\u001b[0m  (\u001b[38;5;241m2012\u001b[39m, \u001b[38;5;124m'\u001b[39m\u001b[38;5;124mOutdoor Protection\u001b[39m\u001b[38;5;124m'\u001b[39m, \u001b[38;5;241m5\u001b[39m),\n\u001b[1;32m     17\u001b[0m  (\u001b[38;5;241m2012\u001b[39m, \u001b[38;5;124m'\u001b[39m\u001b[38;5;124mPersonal Accessories\u001b[39m\u001b[38;5;124m'\u001b[39m, \u001b[38;5;241m3\u001b[39m),\n\u001b[1;32m     18\u001b[0m  (\u001b[38;5;241m2013\u001b[39m, \u001b[38;5;124m'\u001b[39m\u001b[38;5;124mCamping Equipment\u001b[39m\u001b[38;5;124m'\u001b[39m, \u001b[38;5;241m8\u001b[39m),\n\u001b[1;32m     19\u001b[0m  (\u001b[38;5;241m2013\u001b[39m, \u001b[38;5;124m'\u001b[39m\u001b[38;5;124mGolf Equipment\u001b[39m\u001b[38;5;124m'\u001b[39m, \u001b[38;5;241m5\u001b[39m),\n\u001b[1;32m     20\u001b[0m  (\u001b[38;5;241m2013\u001b[39m, \u001b[38;5;124m'\u001b[39m\u001b[38;5;124mMountaineering Equipment\u001b[39m\u001b[38;5;124m'\u001b[39m, \u001b[38;5;241m3\u001b[39m),\n\u001b[1;32m     21\u001b[0m  (\u001b[38;5;241m2013\u001b[39m, \u001b[38;5;124m'\u001b[39m\u001b[38;5;124mOutdoor Protection\u001b[39m\u001b[38;5;124m'\u001b[39m, \u001b[38;5;241m8\u001b[39m),\n\u001b[1;32m     22\u001b[0m  (\u001b[38;5;241m2013\u001b[39m, \u001b[38;5;124m'\u001b[39m\u001b[38;5;124mPersonal Accessories\u001b[39m\u001b[38;5;124m'\u001b[39m, \u001b[38;5;241m4\u001b[39m)],\n\u001b[1;32m     23\u001b[0m [\u001b[38;5;124m\"\u001b[39m\u001b[38;5;124myear\u001b[39m\u001b[38;5;124m\"\u001b[39m,\u001b[38;5;124m\"\u001b[39m\u001b[38;5;124mcategory\u001b[39m\u001b[38;5;124m\"\u001b[39m,\u001b[38;5;124m\"\u001b[39m\u001b[38;5;124munique_customers\u001b[39m\u001b[38;5;124m\"\u001b[39m])\n\u001b[1;32m     25\u001b[0m \u001b[38;5;66;03m# This time, we've combined the dataframe and display() call in the same cell\u001b[39;00m\n\u001b[1;32m     26\u001b[0m \u001b[38;5;66;03m# Run this cell \u001b[39;00m\n\u001b[1;32m     27\u001b[0m display(df2)\n",
            "\u001b[0;31mNameError\u001b[0m: name 'spark' is not defined"
          ]
        }
      ]
    },
    {
      "metadata": {
        "id": "gUubfMweyBWG"
      },
      "cell_type": "markdown",
      "source": []
    },
    {
      "metadata": {
        "id": "L2fAdkzFyBWG"
      },
      "cell_type": "markdown",
      "source": [
        "## Load External Data\n",
        "So far, you've worked with data hard-coded into our notebook. Now, load external data (CSV) from a URL."
      ]
    },
    {
      "metadata": {
        "id": "QEuY4WCoyBWG",
        "outputId": "5554be10-efb4-43e6-80ae-a77108529b78"
      },
      "cell_type": "code",
      "source": [
        "import pixiedust\n"
      ],
      "execution_count": null,
      "outputs": [
        {
          "output_type": "stream",
          "text": "Pixiedust database opened successfully\n",
          "name": "stdout"
        },
        {
          "output_type": "display_data",
          "data": {
            "text/plain": "<IPython.core.display.HTML object>",
            "text/html": "\n        <div style=\"margin:10px\">\n            <a href=\"https://github.com/ibm-watson-data-lab/pixiedust\" target=\"_new\">\n                <img src=\"https://github.com/ibm-watson-data-lab/pixiedust/raw/master/docs/_static/pd_icon32.png\" style=\"float:left;margin-right:10px\"/>\n            </a>\n            <span>Pixiedust version 1.1.19</span>\n        </div>\n        "
          },
          "metadata": {}
        }
      ]
    },
    {
      "metadata": {
        "pixiedust": {
          "displayParams": {
            "chartsize": "50",
            "color": "origin",
            "handlerId": "scatterPlot",
            "keyFields": "horsepower",
            "kind": "hex",
            "rendererId": "matplotlib",
            "rowCount": "1000",
            "title": "Distribution of MPG per Horsepower",
            "valueFields": "mpg"
          }
        },
        "id": "ZRgNwRHyyBWG",
        "outputId": "01f46073-b76f-4128-9bdb-ea0dd5b97a8d"
      },
      "cell_type": "code",
      "source": [
        "\n",
        "# load a CSV with pixiedust.sampleData()\n",
        "df3 = pixiedust.sampleData(\"https://github.com/ibm-watson-data-lab/open-data/raw/master/cars/cars.csv\")\n",
        "display(df3)"
      ],
      "execution_count": null,
      "outputs": [
        {
          "data": {
            "text/plain": "<IPython.core.display.HTML object>",
            "text/html": "<style type=\"text/css\">.pd_warning{display:none;}</style><div class=\"pd_warning\"><em>Hey, there's something awesome here! To see it, open this notebook outside GitHub, in a viewer like Jupyter</em></div>\n        <div class=\"pd_save is-viewer-good\" style=\"padding-right:10px;text-align: center;line-height:initial !important;font-size: xx-large;font-weight: 500;color: coral;\">\n            Distribution of MPG per Horsepower\n        </div>\n    <div id=\"chartFiguref3609354\" class=\"pd_save is-viewer-good\" style=\"overflow-x:auto\">\n            \n                    \n                            <center><img style=\"max-width:initial !important\" src=\"data:image/png;base64,iVBORw0KGgoAAAANSUhEUgAAAfUAAAGBCAYAAAB/+yjGAAAAOXRFWHRTb2Z0d2FyZQBNYXRwbG90bGliIHZlcnNpb24zLjUuMiwgaHR0cHM6Ly9tYXRwbG90bGliLm9yZy8qNh9FAAAACXBIWXMAAA7EAAAOxAGVKw4bAABjeklEQVR4nO3de3xT9fkH8E/SFJK05WJvlGtBFES5iW0BLRdBpptubHOiQ7kJgiIoOC6rCI4fMAQRBNQ5b4jut+kUUMHqQKgUsKUdd0VwtVKchaYgICSlSXN+f/R3QpOcc3KS5uTWz/v16ktJTk6+J0n75HzP83wfnSAIAoiIiCjq6cM9ACIiIgoOBnUiIqIYYQj3AIhiidPpRG1tLXhVK7bpdDo0a9YMej3PiyiyMKgTBYEgCPj+++9RVVUV7qFQCKWlpaF9+/bQ6XThHgoRAAZ1oqAQA3qHDh2QmJjIP/IxThAEXLx4ESdPngQAdOjQIcwjIqrHoE7USE6n0xXQ09LSwj0cChGz2QwAOHnyJCwWC/r06cPpeAo7fgKJGqm2thYAkJiYGOaRUKiJ7/nu3buxZ88eOJ3OMI+ImjoGdaJGEpPiOOXe9IjveYsWLVBSUoLq6uowj4iaOgZ1IqJGMpvNqK2txaVLl8I9FGriGNSJmqAhQ4Zg3rx54R5GzBDP2FnKSOHGoE5ERBQjGNSJqFGcTiccDke4h6Gpy5cvh3sIRKowqBNFEKvVjrKys7Ba7Zo/V21tLSZPnoykpCRkZmbiH//4h+u+/Px89OzZE82bN0fXrl2xfv16133fffcddDod3nvvPWRnZ8NoNOLAgQPYt28fbrnlFiQkJKB169YYPHgwzp0753rc6tWr0aVLF5jNZmRlZaGgoMB137p169C+fXu89dZbrlr/SZMmuSoLAOD06dO4++67kZiYiNatW+PBBx90XcPesGEDOnXq5Nr2zTffhE6nw7/+9S8AQF1dHZKSklBUVAQAsFqtmDp1KlJTU9GqVSvceeed+O6771yPHzduHEaPHo25c+ciJSUFd999d1BecyKtMagTRQCHw4m5c7chJWUZunZdg5SUZZg7dxscDu1KpF5++WV0794d+/fvx7hx4zB+/HhUVVXhu+++w8iRIzFy5EgcOnQIjz/+OCZMmIDdu3e7Pf6pp57CokWL8NVXX+Gaa67B/fffj5tvvhmHDx/Grl27MHr0aNe2r7/+Op5//nm8+OKLOHLkCMaMGYOf//znboH0zJkzeO2117B582Zs3LgRW7ZswZIlS1z3P/DAAzh58iQ+//xzfPTRR9i5cydmzJgBAMjNzUVFRQUqKioAAIWFhUhOTkZhYSEAYP/+/airq0O/fv0AAFOmTME333yD/Px8FBcXIy0tDXfddRfq6upcz/fBBx/AZrNh9+7deO6554L74hNpRSCiRrFarUJpaalgtVoD3secOVsFvf5PAvC060ev/5MwZ87WII70isGDBwt33HGH6992u10wm83CRx99JMyZM0fIyspy237UqFHC3XffLQiCIJSXlwsAhHXr1rltk5iYKOzcuVPy+Tp37ix89NFHbrfddtttwv/8z/8IgiAIb7zxhgBAOHr0qOv+V155RUhOThYEQRCOHj0qABC+/PJL1/35+fmCwWAQzp07JwiCIHTr1k14++23BUEQhGuuuUZYuHChMGjQIEEQBGHFihXC0KFDXeNv1qyZcPbsWde+amtrBbPZLBQWFgqCIAhjx44VunTpItTV1cm/iMKV9/6f//ynsHTpUqGsrExxeyKt8UydKMysVjtWry6G0+meOe10ClizZq9mU/E9e/Z0/b/BYEBKSgqqqqpw7Ngx9O/f323bAQMG4NixY2639e3b1+3fjz76KEaMGIGRI0fihRdecNVsX7x4EeXl5Rg1ahQSExNdPzt27MC3337renxSUhK6d+/u+nd2djbOnDmDM2fO4NixY0hKSkKPHj3cxuRwOFBWVgag/my9sLAQp0+fxunTpzF16lSUlpaitrYWhYWFyM3NBQB8+eWXsNvtrml+cTrfZrO5jad3795cIY6iDpeJJQqzysqfYLNJJ5pZrXacOnURXbq0DvrzxsfHu/1bp9PB6XSqLssSl0kV/fnPf8bo0aOxefNmvPXWW5g/fz6KiorQokULAMD//u//4vrrr3d7TFJSktvzy5Eak+f2ubm5eOaZZ7Bz504MHDgQV111Fa655hoUFxdj165dmDp1KoD6LxkmkwkHDhzw2mfDZX49j48oGvBrKFGYZWQkwWSS/n5tNsejTZvQLj/bvXt3V0KZ6IsvvnA7i5Zzww03YO7cuSgqKkKbNm2wceNGpKWloU2bNqioqEDXrl3dftLT012PvXDhgttsQElJCZKTk5GcnIzu3bvjp59+wldffeW6f8+ePTAYDLj66qsB1Af1o0ePYtOmTRg0aBAAYNCgQXj55Zdx7tw51+xD7969YbVaYbPZvMYjfgEhilYM6kRhZjbHY/r0HOj17meeer0O06Zlw2yOl3mkNh5++GEcPHgQ8+fPx/Hjx7F27Vq89957ePzxx2UfY7PZMH36dBQWFuLEiRP4+OOPUVFRgW7dukGn0yEvLw9PPfUU3njjDZSVlaG0tBRLly7F9u3bXfswGo2u5/7ss8+wYMEC19l19+7dMWLECEyYMAH//ve/sXv3bkyfPh3jx49Hy5YtAQCdO3dG27Zt8c4777im2nNzc/GPf/wDffv2da3T3r17d/zmN7/Bvffei08//RTl5eXYuXMnpk2bhjNnzmj0qhKFBqffiSLAokW3AoDrGrrZHI9p07Jdt4dSp06dsGnTJsyePRtLly5Fx44d8dprr2HgwIGyj4mLi0NVVRXuu+8+WCwWtGvXDvPnz8evfvUrAMC0adPQvHlzLFu2DJMnT0ZycjIGDBiAX//61659JCcnu7Liz507h3vvvRd5eXmu+9evX49HHnkEgwcPhsFgwG9/+1usXLnSbRy5ubnYtGkTsrOzAdSfqdfV1eGWW25x2+5vf/sbnnzySUyYMAHV1dVo164dRowYwSl3ino6Qe0FNCKSZLPZ8NVXX6FHjx4wmUyN2pd4Db1Nm8SQn6GH07p16zBv3jx8//334R6KX8T3vry8HGVlZfjd736HLl26hHtY1ITxTJ0ogpjN8ZokxRFR08Br6kRERDGCQZ2Iwm7cuHFRN/VOFIkY1ImIiGIEgzpRI7GXdtPF95wiDYM6USM1a9YMQP1KZdS0iO+53a59Vz0iNZj9TtRIer0eaWlpOHnyJAAgMTFRcclTin6CIODixYs4efIkzp49yzN2ihgM6kRB0L59ewBwBXZqGs6ePQuLxQK73Q6dTgej0RjuIVETx6BOFAQ6nQ4dOnSATqfDv/71L9TU1LiWL6XYVFtbC0EQ4HA4cObMGVx99dVITk4O97CoieOKckRBduLECWzduhWXLl3itGwToNfrkZGRgTvuuMO1vjxRuDCoE2mgrq4Oly5dgtPpDPdQSGPNmjWDyWRiHgVFBAZ1IiKiGMGSNiIiohjBoE5ERBQjGNSJiIhiBIM6ERFRjGBQJyIiihEM6kRERDGCQZ2IiChGxMQysU6nE+fOnYPRaOQCEERE1CQIgoCamhq0atUKen39OXpMBPVz585xzWUiImqSzpw5g6uuugpAjAR1sTPSmTNnYDKZwjwaIiIi7dlsNiQnJ7t1B4yJoC5OuZtMJgZ1IiJqUhpedmaiHBERUYxgUCciIooRDOpEREQxgkGdiIgoRjCoExERxQgGdSIiohjBoB7lrFY7ysrOwmq1h3soREQUZgzqUcrhcGLu3G1ISVmGrl3XICVlGebO3QaHwxnuoRERUZjExOIzTdG8eduxfPkeOJ0CAMBmc2D58j0AgKVLh4dzaEREFCY8U49CVqsdq1cXuwK6yOkUsGbNXk7FExE1UQzqUaiy8ifYbA7J+6xWO06duhjiERERUSRgUI9CGRlJMJmkr5yYzfFo0yYxxCMiIqJIwKAehczmeEyfngO93r13vF6vw7Rp2TCb48M0MiIiCicmykWpRYtuBQDXNXSzOR7TpmW7bicioqZHJwiC4HuzyGaz2WA2m2G1Wptc61XxGnqbNok8QyciakKkYh/P1KOc2RyPLl1ah3sYREQUAXhNnYiIKEYwqBMREcWIsAT1kSNHQqfTYdu2ba7bdDqd18+BAwfCMTwiIqKoFPJr6m+88QZsNpvkfe+++y5yc3Nd/05JSQnVsIiIiKJeSIP6iRMnsGDBAuzZswcdOnTwur9169Zo06ZNKIdEREQUM0I2/e50OjF27Fj86U9/Qvv27SW3GTduHNLS0pCbm4stW7bI7stut8Nms7n9UD22YiUiarpCFtRXrlyJxMREjB8/XvL+xYsX4/3330d+fj4GDx6Mu+66y+2au+e2ZrPZ9ZOcnKzl0KMCW7ESEVFIFp85evQohg0bhtLSUrRt27b+iXU6bN26FcOHS7cJHTNmDM6ePYvNmzd73We32+FwXGloYrPZkJycrOniM1arHZWVPyEjIykiF3mZO3ebWytWoH7Z2FmzBrIVKxFRDJJafCYkZ+rFxcU4deoUOnbsCIPBAIOh/lL+z372M4wePVryMf369UN5ebnkffHx8TCZTG4/WomGM2C2YiUiIiBEiXIjR47ETTfd5HZbz5498fLLL+P222+XfMzBgweRmZkZgtEpmzdvu9sZsM3mwPLlewDA6ww4XGfzalqxctU5IqLYF5Kg3qpVK7Rq1crr9szMTLRv3x6bN2+GxWJBTk4ODAYDNmzYgDfffFNy6j2UfJ0Bz58/GGZzPBwOJ+bN247Vq4thszlgMhkwfXoOFi26FQaD9pMhYitWqcDOVqxERE1HRKwoZzAYsGrVKmRnZ+Omm27Cxo0b8f777+OOO+4I67jUnAEDV87mxW3Fs/l587aHZJxsxUpERAC7tCmyWu1ISVkmewZsscwCAJ/bhCKoirMFUq1YQzFbQEREoRW2RLlopeYMWO3ZvNYMBj2WLh0Oi2UWysqmw2KZhaVLhzOgExE1IfyL78PTTw9BVlZbt9uystri6aeHALhyPVtKOK5ni61YOeVORNT0MKj78PTTBSgp+cHttpKSH/D00wUAeD2biIgiB4O6AuXs92JX/feiRbdi1qyBrgBuNsdj1qyBWLTo1pCPmYiImi4myikoKzuLrl3XKNw/3a3+W7yG3qZNIs/QiYhIU1KxL+StV6NJy5ZGxftbtGju9m/xejYREVE4cPpdwfnzNYr3X7hwOUQjISIi8o1BXUFGRhKMxjjJ+0wmA1dqIyKiiMKgrsBsjsdjj/WXzGyfPj2H182JiCii8Jq6D2IGu9RKbURERJGE2e8qMbOdiIgiCbPfG4GZ7UREFOl4TZ2IiChGMKgTERHFCAZ1UmS12lFWdta1JC4REUUuBnWS5HA4MXfuNqSkLEPXrmuQkrIMc+dug8PhDPfQiIhIBhPlSNK8eduxfPkeVzMbm82B5cv3AACWLh0ezqEREZEMnqmTF+XudHs5FU9EFKEY1MlLZeVPsNkckveJ9foU/ZgvQRR7GNSjnBZ/mDMykmAySV+ZMZvjueZ9lGO+BFHsYlCPUlr+YTab4zF9eo7kmvfTpmVzRb0oJ+ZLiLMxYr7EvHnbwzwyImosLhMbpebO3eaWyAbUB91ZswYGJZHN4XBi3rztkmveGwz8LhitrFY7UlKWSV5eMZvjYbHM4pc2oighFfsY1KNQKP8wc8372FJWdhZdu65RuH86l0MmihJSsY+nXFEolIls4pr3DOixgfkSRLGNQT0K8Q8zBYr5EkSxLSxBfeTIkdDpdNi2bZvrtuPHj2Po0KEwmUzIzMzE66+/Ho6hRQX+YabGWLToVsyaNdD1OTGb4zFr1kAsWnRrmEdGRI0V8hXl3njjDdhsNrfb7HY7fvGLX6BPnz4oKSlBcXExJk+ejE6dOmHYsGGhHmJUEP8ASyWyESkxGPRYunQ45s8fzHwJohgT0kS5EydOIDc3F3v27EGHDh2wdetWDB8+HB9++CHuueceWCwWJCUlAQDGjBmDCxcuYNOmTV77sdvtcDiuXFO22WxITk5uMolyDTGRjYioaQpropzT6cTYsWPxpz/9Ce3bt3e7b+/evcjKynIFdAAYNmwYiouLJfe1ePFimM1m109ycrKmY49kTGQjIiJRyIL6ypUrkZiYiPHjx3vdV1VVhbS0NLfbUlNTYbFYJPf15JNPwmq1un7OnDmjyZhjDZcFJSKKbSG5pn706FGsWLECpaWlkvf7ewUgPj4e8fE8M1VLXEhm9epi2GwOmEwGTJ+ew4VkiIhiTEj+ohcXF+PUqVPo2LEjDAYDDIb67xI/+9nPMHr0aKSnp6OqqsrtMRaLBampqaEYXliF4uyZy4ISETUNIUmUO3fuHL7//nu323r27IlXXnkFt99+O/bt24dRo0bBYrEgMbG+xnrs2LE4f/68ZKKcp2hcUa4xZ89Wqx2VlT8hIyPJ57V0LgtKRBSbpGJfSKbfW7VqhVatWnndnpmZifbt2yMtLQ3t2rXDhAkTsGDBAhQXF+Pvf/878vPzQzG8sBDPnsW128WzZwCya7cH8kVAzepzXBaUiCg2RMQF1WbNmmHLli2oqqpCv3798Kc//QkvvfRSzNaoW612rF5d7NaMBQCcTsFVdy4lkGl0rj5HRNR0hC2oC4KA4cOvnJF269YNBQUFqKmpwYkTJ/Dggw+Ga2iaC2Tt9kC/CHD1OSKipiMiztSbmkDOnhvTxIXLghIRNQ0hXyaWrpw9S/VDlzt7Fr8IyCW8KU2jc1lQIqKmgWfqYaJ09ixV5haMaXSuPkdEFNtCuva7VqKxpE3UcO32Zs3iFLPbL1y4jNmz/4X16w/BZnO4NXERs9+rq604dOg0evVKR0qKOcxH582fcjwiIpIXtpI2kieePQPA3LnbJMvcnE4Ber3OFeyNxjhMntwPy5bdhhYtmgMAamocGDJkHYqL/+vad05OOxQUjIPRGP63mavaERFpj2fqEUJpkZi4OB0EAV7X32fNGuiqae/f/1W3gC7KyWmHoqKJ2g1cJc8vLID3MRARkXph7dJGypSy2+vqBMVStupqq2RAB4Di4v+iutoa9PH6I9ByPCIi8g+DeoRQKnOTI16PP3TotOJ2R45UKd6vtcaU4xERkXoM6hFCLrvd12NatGiOpCTlhLOEhPiwng1zVTsiotBgUI8gnmVuSnQ6oGfPNHTsuBLZ2a/JbqfXA9nZryIlZRnmzt0Gh8MZzCGrwlXtiIhCg4lyEchqtaO8/EdkZb0iO22dldUW//53pdd1aiXhTEwTs9/Fa+hS5Xi+sByOiOgKqdjHoB7BpDLGdTrg0Uez8Mor+1BTU+f1mGbNdPjFL7ph48avJfcZ7narDevy1Y6B5XBERN6Y/R5lpFadmz37Zkydmi0Z0AGgtlbApk3SAR0If2JaIKvaBdKdjoioKeKZehTwPLutrrYiNXV5QPsK95m6v5Tq96PtWIiIgoln6lHK8+z2/PmagPYTjYlpLIcjIlKPQT0KBVLTDgAzZvSPunarLIcjIlKPQT0CSXVpa8jfmnadDpg5sz+efXZE1CWWsRyOiEi96PoLH4MaBnCHw4m5c7chJWUZunZdo1hbLibRqTljnzlzAJ555jafXxYajqe62upzW3/4em6l+5Xa1BIR0RVMlAsTqTKtXr3SUVLyg19NT/7wh3/huee+gNK7eOzYo3j99f2KJWHieJ5/vsgts76x5WO+ytH8KVcLpByOiChWsU49gkjVoMuRy/JWygxv+NiHH74JK1cWKX5ZUBqPry8WSovC+OrOxu5tRESBYVCPEGqCsaeysumuvutXbjuLrl3XyD5Gr9fh8cdz8NJLpYolYQBUfTnw/GLh6yzbVznaiROPo2PHlSxXIyIKAEvaIoRSmZYUuSxvX1nwM2b0x0MP9fNZEqZmPFLlY74WhfFVjnb48GmWqxERBRGDehj4U5KmlOUtlxneMNu9Q4eWPkvC1IzH84uFmh7pvsrRevZMZ7kaEVEQMaiHgVIwzslp51eWt9xSss88c5viczX8suCrRE7qi4WaRWF8PXdKipnlakREQRSSa+pLly7FunXrUFFRAZPJhJtvvhnPPvssrr322vpB6LyDyf79+9GnTx9V+4+2a+qActeyc+dqcPjwafTsmY6UFLOq/cllhlutdpw8eR6vvLIPL71UKtshzfP6uMhsNmDaNO9sdLXLt/rqzsZmLUREgQlbotw///lPtG7dGldffTUuXLiAp59+GkeOHME333xTPwidDu+++y5yc3Ndj0lJSYHBoG6KOhqDuqhhMG7WLC5oAU4qWD788E2YPPkmtG/fQvYsWBxPixbNceHCZcXyMX8y1+W+dDCoExEFJmKy3w8fPoxevXrh1KlTSE9Ph06nw9atWzF8eGAlTNEc1BvyFST96SceilKxYPRIZ0kbEVFgIiKo22w2zJs3D1u2bMFXX30FvV4PnU6Hdu3aoba2Ft26dcPcuXPxi1/8QnYfdrsdDofDbZ/JyclRHdSVprNNJgMeeSQLL75YoupsNtSdzQJdFIYd2IiIAhfWkrbNmzcjMTERCQkJ2LJlC/Lz86HX1z/94sWL8f777yM/Px+DBw/GXXfdhW3btsnua/HixTCbza6f5OTkUB2GZpQSz2w2B1auLFLdT9xXElt5+Y/BGfT/C6RHOsAObOGmZtlgIoouITtTv3TpEiorK3Hq1CmsWLEClZWVKCwsRHy8dyAYM2YMzp49i82bN0vuq6mdqcsRF3A5f77GbUre174ac93an0sAavbFM/XQYx4DUWwI65l6QkICunbtiltuuQXvvPMODh8+jPz8fMlt+/Xrh/Lyctl9xcfHw2Qyuf1EO6UyNzlWqx0dOqz0av7iq0TN15m+FH+azajFDmzh4WvRICKKXmH7Wi4Igmx2+8GDB5GZmRnaAUUAqZrzGTP6Ky4MU1Mj/Yc5Ly8Xkyb1hdEYJ/k4p1PA6tXFqqdetQoEnt3mTCYDO7BpSM2iQUQUvdTVjDXSnDlzMHLkSLRt2xanT5/G0qVLkZKSgptvvhmbN2+GxWJBTk4ODAYDNmzYgDfffFN26j2WGQx6LF06HPPnD3ZLPIuPj1PV/KU+UBfB4XC6kuqaNZP/3mazOXDq1EWvNeU9+QoE8+cPbvRZtXgVKAZaEUQ0NXkMvj4PRBS5QhLUKyoq8Lvf/Q4WiwWpqanIzc3FZ599hpYtW8JgMGDVqlUoKyuDXq/Hddddh/fffx933HFHKIYWkcTEM5F41iqeSRmNBtcZuiebrc6tI1ttrfL0eIsWzX2OR8tAIM4AiOOtqanD8uV7AIAlbRoQl+6Vy2Pg0rxE0Y1d2qKIGEANBj06dVoVlH0eOfIwrr8+TfK5xIQ4QL6LW2MS2pgoFx5cG4AoNrBLW5QTz+Dt9jrNnkMqIW7hws/x6KPZfie0+SqZUlN6x5Kr4JPK3WAeA1Fs4Jl6FLJa7UhOfgY1NY0L7gaDDufP/9EtKMudxT3xxADo9TpVq8epLZlSOlM3GHSIj49jyZWGAl00iIgiQ0SsKKeFphbUAeng66/s7LYoLp7k+rea6XAAPgOBP9O7cseh0wENP5mcHiYicsfp9xjiOYWqJC5Oul798OEqt6ltte1UlVaP87dkyvM4TCYDDAY9PL9qsuSKiMg3BnUNVFdbsX17OaqrrZo9h1j+ZrHMQlnZdNf0eEM6HTBhQh/U1UmfzYslbSIxM1qK2sxof5d+9TyOvXsnyS5oE6ylY7k8KhHFKgb1IDp71oa+ff+C1NTlGDZsPVJTl6N//1dly8+CQTxzXrp0uFfy0+zZN2PlyttVBWqHw4mFCz9Hba33dXp/VngL9IuBeBxdurRu9BcLOVqsikdEFEkY1INADBbJyctw4MBpt/uKi/+LIUPWaT4GzzNei2UWli4djhYtmqtailWsF/c8qzcY9H5lRjd26Vctl47l8qjKOINBFP2YKBcEc+duwzPP7FbcxmKZhZQUc4hG5M5X33NfbV+rq2f7FUwb22c9GH3aPbEmXh4bvBBFJ2a/a0Btd7UdO8ZiyJDM0AxKhmcJk7jAjM3mQM+eL8k+rqxsekArxjW2ZCqYJVdlZWfRtesahfsDO8ZYwMVoiKITs981oJQY1tANN3iv2qYFpSlU8bp1s2ZxbteWs7L+qnhG9uKLJQFddw60z3qwHt9QMJIAYxEbvBDFFgb1RlIKFqKcnHaaT72rSQITA754ZiZ+GampqYPD4ZRt87pixRfIy/tM0/FrjW1epflbrUBEkY1BvZF89S7PyWmHgoJxAe1bTeKSXKBumAR2JZHvGXTtugYrVnwhuWiNXuHTsHLlF406awtVEpbS83B5VG+cwSCKLSHp0hbrvLuoxeHXv74Ozz33s4D+KKpJXPLcRkr9FGoxamvrO7f5Uqew6qzDIaC8/EfJ5i+NPZZgUPM8cq1tmzLxS6nUNfWmPINBFK2YKBdEwUrsUpO4NHv2Vjz77B6vldekxMXpZBegaah58zhcviwf2eU6uikJVRIWk70Cp0W1ARFpj9nvUUDt+ustWy4N6qIper0Ojz+eg9Wr90ru12DQ4/z5uX59WQlVGRnL1YKDDV6Ioguz36OAmsSlb7/9MeiroD34YF/ExekhCN771emAGTP6+/2HPlRJWEz2Co5gVhsQUXgwqEcYdYlLwZ1ciYvToUWL5lix4guv6+oGgx6zZ9+MJUuG+b3fUCVhMdmLiKgeg3qEUVN61aXLVbKd1wIj4MUXSyQz4h0OZ8CzAqEqI2O5GhFRPQb1IApW2Zav0iuzOR4zZw5o9HhFdXVQXEBn5coiv9ZHb/g6SLVWnTixL/Lychs97oZYrkZExES5oNCqbEspcammxoEhQ9ahuPi/rtvMZgOsVungbDLFQRB0kh3jxKlrpcCuJuFM6XWwWu2YPXsr1q8/qGlpG5O9iKipkIp9rFMPArH7lzh9LS78AqBR5VRi4pKUp58uQEnJD263yQV0AOjVqw2GDMmULPuaPj0HALBs2W7ZEjkxWCqtj670OgDAK6/sC/pr5EnpNSMiinU8U2+kUJZTiQ1YWrY0omPHlarWnBeZTAacOvUHLFlSKFmPDABz5mzFc8/JL1LzxBMDMH/+YFgsl5CRkeR2XL46vQHSMwEsOSMiCgzr1DUQiu5fntPavhaJ8TUWuSlqq9Xus/7dYNDD4XB6TZ/7eh3UjIuIiNTj9LsGxHIqubPQYJRTeU5rBxLQG45Fboq6svInn5nu4v2e0+dKr4OvM3WWnBERBQez3xtJ63IqudaY/lA7FjUd5xpq2J5T6XWYPj2HJWdERCEQkqC+dOlSdO/eHWazGcnJyfjlL3+J48ePu+4/fvw4hg4dCpPJhMzMTLz++uuhGFbQaFlO5atfu9Fo+P//xiEjw/uM12QyuMbiq+RODMxyLVilWK12lJf/iLKys8jLy5V9HfLycjFpUl/XlwaWnBERBV9Irqn/85//ROvWrXH11VfjwoULePrpp3HkyBF88803sNvt6NGjB/r06YMFCxaguLgYU6ZMwSeffIJhw9StYhbukjaRFuVUvhLxjh6dirKys7jmmmTcffe7biVuQH2wnzatPrt97dq9PsvJxOv3zz67W7Frm8hg0CE+Ps5tv3l5uaiutqJNm0Q0axbnlg9gNMZh7Ng+WLbsNrRo0dznsVdW/uSVlEdERBGUKHf48GH06tULp06dQnFxMe655x5YLBYkJSUBAMaMGYMLFy5g06ZNqvYXKUE92K4E2D1eXdZ0OiA7ux0OHTqtKgtep4NbuZqvDmYzZ36KVauKfHaB87XfQLqnhapdKxFRNIuIhi42mw3r1q1Dt27dkJqair179yIrK8sV0AFg2LBhKC4ult2H3W6HzWZz+4lFYoKcZ0A3GPTIzm6HkpIfVJe1eQbnhtfDPVmtdvzlL6WKAd1kMsBg0CvuVy4fQOm5gSvHLR6bmJTnz6p2RERNUciC+ubNm5GYmIiEhARs2bIF+fn50Ov1qKqqQlqae4/u1NRUWCwW2X0tXrwYZrPZ9ZOcnKz18ENOKUHOYNDh0KHTjUqeE59DqoOZr+v4O3aMxd69k2Qz5cX9BtI9LdAvAkREFMKgPnToUBw4cAA7d+7Eddddh/vuuw92ux2BzP4/+eSTsFqtrp8zZ85oMOLwUgqINTV1fi08o+TFF0u8grOvrmfZ2e3QpUtrn53RAumexjaqRESBC1lQT0hIQNeuXXHLLbfgnXfeweHDh5Gfn4/09HRUVVW5bWuxWJCamiq7r/j4eJhMJrefWKMUEE0mg1+lZ0qkmrWoKdML1jae2EaViChwYcs6EgQBBoMB2dnZKC0txcWLV87Atm/fjpycnHANTZFSWViwurQByoFVru5bSVyc9O1y09pyJWh5ebmyHdg8y9SsVjvGj++DGTP6u/bTsMTO3+NmTTsRkbKQrCg3Z84cjBw5Em3btsXp06exdOlSpKSk4Oabb4bJZEK7du0wYcIEV0nb3//+d+Tn54diaKopZWQD0CRbW9y33Frtnvfdf39P/PWv+yT3pVSe1rBZi+dxGo1xmDy5H5YsGYZly3ajTZtnvY5x/vzBbqV8DocTc+duc+0jLk4HnR/F72qOm4iIvPksaevcubPkH2SdTofmzZvj6quvxgMPPIB77rlHdh/33XcfCgsLXdPqubm5WLhwIa655hoAwLFjxzB58mQUFRUhPT0d8+fPx4MPPqj6IEJR0qZUmgXA77ItfyjVvze8D4BsTbuShk1V5I4zK6stSkp+UHWMUvtoSO1rE8ttVFmDT0SNFVCd+rJly/DMM8/g9ttvx0033QQAKC0txaefforHHnsMFRUVePvtt7F69WpMmjRJ+6OQoHVQj6YOZL4CqqeGAVbpOOV4HqPafTTV7myswSeiYAmoocuuXbvwzDPPYOLEiW63v/baa/jggw/w4Ycfol+/fli1alXYgrrWlDKylYKXmh7kweY5dd2sWRxqa+Xn3keNut71GF+lbFI8j1HtPtS8NrF4NqvUcz6YfeWJqGnyeaaekJCAAwcOuKbKRd988w369OmDS5cu4dtvv8UNN9wAq9Wq6WDl8Ezdmxg0DQY9OnVaJbudxTILKSlm12Mi4Uw9Vs9mfS352xRnLogocAGtKNehQwe89NJLXre/9NJL6NChA4D6ErRYXABGFI0dyMT2qh07tkROTjvJbXJy2rkCuvgYuWPJyWmn6hjl9uHrcQ3F6opyrMEnIq35nH5fu3Ytfvvb32Ljxo3o06cPdDod9u/fjx9//BHvv/8+AODrr7/GQw89pPlgw8nfTPRIytYuKBiHIUPWuTV7yclph4KCcV7bimP2PEt++ukhePrpArdjnDKlH8aP74OKivP4z3/OolevdKSkmL1eK4NBB0AHh8Ppem3E0jhxal2cam/Z0ii7otzq1cW4//5e6NKldVSe0Sr1nGcNPhEFg6qGLufOncPf/vY3/Oc//4EgCLj22mvx+9//Hq1atQrBEH0LZUMXtZnokRh0qqutOHKkCjfckOZ2ht5QTY1D9guA0WiA1WrH999fwF//+m+sXVuMy5fdV6Pz3LZhZv6pUxeRkmLGkiWFbiVzvXu3cTWmad48DpcvK7eHC+V0fLCv6wfS4IaISErEdGkLtljt0hYO/fu/6tW+FagP1kVF9cmSvjLsG27ryd/sfDlaB0KtruuL+5Wa1YnmfAEiCr2Ag/rOnTuxdu1aHDt2DADQrVs3PProoxg0aJC2I1aJQT04qqutSE1dLnu/mMilJhGuYQKeKJBEPCVaJpdpfUYd6bM6RBT5AkqUW7NmDW677TY0b94cEydOxMSJE2E0GjFixAisWbNG80FT6Bw6dFrx/iNHqlSXrB05UuV1WyAlc0oaJpcFc4neUHSKExMZGdCJKJh8JsotWbIEa9eu9apBHzRoEObNm4dp06ZpNjgKrV690hXvv+GGNJjN8bLJXp7belJKFAtE/ayB2W1J2mBMk6vJUg/l2gNERGr5/Ktns9kwePBgr9sHDRqEmpoaTQZF2pI7q01JMfssf1NTspad3VZy6r2y8ic88kiWX41o5IhlcUuWFEqWv82ZszXgM3d2iiOiaOUzqE+cOBGrV6+G03kly1kQBKxduxYTJkzQdHBNVTCnkhsSG62kpCxD165rkJKyDHPnbnPrp15QMM4rsHuWv4nd2eQ6vw0a1Ml1HMeOVeMPf/iX6zlfeGEvsrLauoKm0RiHnJx2MBrFfxswY0Z/tGmT4LbPhIR4yY5xctPkzz1XJHuMvrBTHBFFK5+Jcvfffz8+/PBDtGrVCjfeeCN0Oh327duHc+fO4Ze//KVbs5f169drPmApsZIop/VKav4kf/kqf/O1yt4jj2ThxRdLZKex4+J0qKsTYDAA9TXsQoPHx+H669NQWlrpui0npx0+/ng0zp2rcSWXlZWdRdeuvvM6AklwY5Y6EUW6gLLfx48fr/oJ3njjjcaNMECxEtS1zLgO9hKlvgKqXq9rdNmaJ89SOX+y6QPNlNcqSz0W17UnotAKqKFLw0AtCAI8vwPo9TxrCQZfGdfz5w9u1B//YCd/+Up6C3ZAB4Di4v+iutrqmjkQp8nV1L03JsEtmEs5xOq69kQUGXz+FTl58iR+97vfITU1FQaDAfHx8W4/FBxarwuulPxlMhn8Tv6Su+6sa3wOnCLPUjnx+r6vLzz+JripyT8IRKyua09EkcFnUL/vvvvwww8/YO3atfjss8+wfft2tx8KDq0zrpWy1u12JxYu/NzvgOUZUM3meMyY0V/2OILBs1TOYNBj6dLhsFhmoaxsOp54YkBQEty0CL6hqH8noqbN5zX1xMRE7Nu3D9dee22oxuQ3XlNXR5z6XbFij1tiWmOfx/O6c7CWgvWktPysKBgJblq1SPWVh1BWNp3170SkWkAryg0YMAD/+c9/NB8cSZ/5zpo1MGjd3gwGPebPH4z4eO9atMacLXqujiYeh1impkRuut6zpE2uq5wnzzN3i2UWli4d7tf1aq0uhbD+nYi05vNM/b///S8mTZqE2267DT169PC6jn7rreFvL6rFmXp1tRWHDp12tRMNpcZkXHtmVTf8NwAUFX2PYcPkSw/Fs0W54/fcn9gu9fz5Gq9M7upqKzp0WImaGumyt507x2HQoHWyZ8T79j2E0tIfkJvbCR07tnRrzyr1fMGixZm6OPaXXirFypVF7NJGRI0WUPb7oUOHsHfvXnzyySde9+l0OtTVKbfJjDa+Wo+Ggnjm6w/PrGrPlqZxcTrodDrF6+ZmczxatTJ6dWrLyWmHbdvGYNGina79x8XVn2LX1TWsL3fP5E5JMeOxx7yz0/V6HaZPz0Hr1ibFM+I+fV5GTc2VYzlwoNKt1atWmeNyWfWBXJuXel+ystri8OHTsFodbpcHiIgay+eZeufOnXHnnXdi3rx5SE9XXhs8XIJ5pq6m9Wgkaux1bPFssaDgO8njz8hIxOnTl3zu3/OsU+kad21tXaO7tml1lhusxWfk8iQefzwHU6dms0sbEQUsoMVnWrRogf379+Pqq68OySADEaygrqb1aKin4tVobEtTMWA9/nh/ZGSsaPR4pKao5S4pBCOpruHzBXtRl8ZeCtEi4Y6ICAgwUe7ee+9Ffn6+5oOLBGpaj0aixrQ03bFjrCuZ7KuvLEEZj1QymVyrUc/kQLn15H093/ffX9CkrrwxLVLVJNxptc4/ETVNPi8St2rVCk899RQ++eQT9OzZ0ytRbuHChZoNLtTUtB6NRIG2NDWb45Gd3c4VsHwdvz/7VZvJLWarz58/GDNnfoq//vXfAT3fX//6b7cENLGuHEDYEtCU3heTyYAXXyxxrY/PleWIKBh8/vUoKSlBnz59cOnSJRQVFaGwsND1s2vXrlCMMWTUtB6NRGraoXqSSvpSOv7G7FcNq9WON988AH9XZNXrdZgypR9efLEk4hZ1Uer21qtXOlauLOLKckQUVD6vqQfDkiVL8N577+H48eNISkrC7bffjmXLliE1NfXKQCQKlvfv348+ffr43H8wE+UiIfs9EJ6JXSaTAb16pbuyrA0GHeq7oTlhMhnwwAO9sHz5CLRo0dxtP1LHL0fstCZq3lyPsWP7SO5XzoULlzF79r+wbt1BXL7sXyWFwaDHE08MwPjxfdC9+wuy24VqURep6/lSCXf1X0JKJUv9eK2diNQKKFEuGH7+85/j97//PW666SZcuHAB06ZNQ0JCgtsyszqdDu+++y5yc3Ndt6WkpMBg8B1ItapTV2o9Gqk8E7sa/tvhcGL27K1Yv/6g7JSvGIRWrfrCrXxMSmnpJEyc+CEOHHDPRVAzlSw+z7PP7nH7YiCleXM9evVqg5KSH1y39e6dju3bx8Jsjkdu7utubVobCkWQVNOkRXwfUlLMmDXrX/jrX/fJ7o8ryxGRGmEL6p6++OILDBw4EOfOnUPLli3rB6LTYevWrRg+3P/rn7GyTKzW1CxDqzYb3WyOx/XXp7oF2oZ8lZrNnbsNy5bt9jndrtfrkJXVFiUlP0iOW64ET80YgsWf5X19HTfP1IlIrYCy37VQXV0No9GIhAT3pUDHjRuHtLQ05ObmYsuWLbKPt9vtsNlsbj+xRIuMaDXNROS28aTX6/Dgg31kA7rnfuXG4iugG40GPP54Dg4dOi057uefL1K8TPDoo1maL+riT5MWX8cdaD4CEZEo5EH98uXLWLhwIcaOHes2tb548WK8//77yM/Px+DBg3HXXXdh27ZtkvtYvHgxzGaz6yc5OTlUw9eUVu0+AXXlVWpK48T16O+6q5vP55RbJ13N8xiNcTh5cgYeeSRLdtuaGuVr8L/+9XWaZ5L7s068r+OeNOlGrixHRI0S0syvuro63H///QCAZ5991u2+vLw81//369cPFRUVWLVqleR0/JNPPok5c+a4/m2z2WIisIvtPrUoy1Iqr2pYgqZUglVSMgmdO9fXbFdXW30+p1xpm5oSvN6928BsjsepUz/Jbms0xikG9lCUIKp9XX1tazIZ8NxzP5P8EhLsBXWIKHaF7Ezd6XRi3Lhx+Prrr/Hpp58iMVG5jrlfv34oLy+XvC8+Ph4mk8ntJ9pp3WtbqbxKnPJV2mb69Bxcf32aK6j4Kn9TmkoWn0euQxsAlJb+gJSUZejZ8y+ora3z2lav1+Gxx/qHvQRRzeuqZtvp03O8XistZ26IKDaFJKgLgoCJEyeiqKgIW7duxVVXXeXzMQcPHkRmZqb2g4sQWrX7bEhNa9crbVPrl3YzGuNk278WFIyTDKomk8Fny9hFi27FpEk3yt5fVye4Xo+6OgGCANdZbMP9S42hd+90vPXWr7F9e7mqGYXGEl8zsa2q0vH7015XnLlhLTsRqRWS6fcpU6bgo48+ciW/nTp1CgCQmpqKuLg4bN68GRaLBTk5OTAYDNiwYQPefPNNbN68ORTDiwj+TOMGquHqbXLrmTscThQUfOea1q6pqUNBwXdwOJxeU8NGowFFRRNx6tRFzJz5KTZsOIrLl+ugVFDRcCp55crb8dZbh1SvhCeeofoq2Dh48DSuvXat69+hWmdAHJfS+NS8B4DvmZv58wdzKp6IvISkpE1qYRkAKC8vR2ZmJj755BPMmTMHZWVl0Ov1uO666/DHP/4RI0eOVLX/WClp86c0SiuBdKlTM265Wm6nU8CKFV/43dBFTUlbQ9nZbVFcPAlA8K9Ra/G+lZWdRdeuaxTuZy07UVMXMXXqwRYrQT1Y7T4DFUiXOrWdyOQC3xNPDIBer3Mds6/kt4b82RYAKiufwKpVRYqLxPhLq05s7PBGsYKJntqJmDp1kiZOzVoss1BWNt3VPS1UDT4C6VKnthOZ3FTyCy+UYP78wa5j3rlzvOrx+hPQAWD69PygX6PWKhfCnwQ8okjERM/wYFCPQI1p99kYgXSpE3MBpIi5AGoCn3jMcvuSIibzqfXhh8eCXl2QkZGEuDjpy0sGg65RuRD+JNURRRomeoYHgzq5BNKlTs0ZpZrAL+rS5SrZIOm5f6WSNilyDWOUzqjVrO4nlzMCqO+aJyXcMzdEgdK6RJfk8a+DhrRY7lVrUiViYvY4IH1McmeUeXm5KCs7CwCSgV+nA6ZM6edqPCNuO3PmAMmxicGs4RmrXFmdp+nTs1V/sQDUTx1WVv4kO53ocDiDUoroz8xNNH7mKPaEokSXpDGoayCaryWJZWoWyyzs2DEWFsssFBVNhMGglz0mzzPKysonAABt2jzr2tbpFPDEEwPcAqsgAC++WIL+/V912y8Ar7rvOXNuxpkzs1WdsXoG75ycdnjmmdv8ukatduowIyNJ9jKAyWQISimiGtH8maPY48/sHAUXs981EAmlacHmbycyuW0dDidWrixSLGETt/VVyw3Il+BJ7W/RoltVVRf4m3keSBlgsMXiZ46iGz+T2mNJWwjEYimSP8ektK34zV3NYjNqXitfJXhy+/PsOe/Jnxpx5dfGAItltubvdyx+5ij6hbtEtylgSVsIxOK1pGB1IrPZHKpXj7Na7Sgv/1Hx+rCvEjy5cfq6Ru3P1KHya+MIyfsdi585in5M9AwPvrpBFovXkvw5JqVtTSaD6pI1g0GHrKxXFK8P+yrBUxqnr23VXn+PhGvqsfiZo9gRrhLdpopBPchicdGQYHYik7pPSsOGLnJJar46xSmN0xe1NeJmczx6924juY9evdJD8n7H4meOiALDa+oaiJZrSWqWbxS3SU1NwJIlhaqOSen4AbitAR8XB9SpXBhO6vrw2bM2DBv2Jg4cuDIVn5GRiHPnamCzOWA0xmHMmN5YvnwEWrRorvq4RdXVVhw+fBo9e6ZL1ukr5xDEYe/eh0JylhItnzkiCh4myoWYr4SscJFrrtIwAMhtk5eXi+pqq6pjkjp+cb/PP1/k9zKvwJUkNbn9NGumQ9++bXHgQCUuX74yXW8yGfDoo9kAgLVr9/pc+13Na1Q/HuWkOvG5G7vGvFqR+pkjouBjUCcA6kpNtCpHkdqvWr4axKih09XXx4sCKctruK3SmXpDLOUhomBjUCdV5U8AQt55zJeGQbEx+5HiT1me1PGr/YLhWVbHzlVE1BgsaSNV5U9alUgp7bchna5+4Ra5JDW1+1HLn7I8qeMXk+p8ZfZbrXZ8//0FrvxGRJpR3xKLYoJY/iR3FiqWP6nZJpjP3XD/YoJXbW2d5PVhNfvxh1xZntrjdzicKCj4zud4zOZ4/OUvpVi1qsh1CcBmc2DZst1wOgUsW3Zb4w+GiJo0nqk3MWrKn7QqkVLa78yZ/b0WqJCrb5XbjxqeDdX8LcuTOv4hQ9apWqp2ypR+WLNmLzwveAkCsHJlEZuwEFGjMag3QZ7TxSaTwasGW6te3nl5uZg0qa9rwRajMQ4TJ/bFggVDvAK4UscxuSlvo1GPnJx2MJncF4Qxm+uP8Q9/UHdMvjrPiWOqrrb6DOjiYx94oLdiR7fy8h8V90PaYGc7iiVMlGuCPMvBjMY4PPZYf8mSq2CVSPkqZWtY9gVAVTkZAFy4cBmzZ2/Fm28eRE2Nd+ldixbNceHCZbfx+3NM4rYpKWYsWVLoNaZhwzpjxIi3ZR//t7/9BiNHdofZHI8jR06jZ8+/yG575MjDuP76NMXxUPCoLVskilRSsY/X1Jsgsa2omK1dU1OH5cv3AIBXyZU4BR7s5/Qkrhonarhtw/s8x7dkSSFeeWWf4raei8b4c0zitp4Z7uLzWK21io8fMeJq1xeHLl2uQlycDnV13q+BwaBD586Nf51JPc/PpNLnjCha8Ey9iQlHRy9/StCUOrk1tvQs0LF/++1ZZGe/Ktt5rqbG4XWdHKi/jv7TT390G8Ps2VvdvryIZs0ayES5EGJnO4oFLGmjsHT08qcETamTW2NLzxre5+saqsPhxNy525Cc/Ax69vyLYuc5ua/FTqfgNYYlS4Zhzpyb3fIZ5sy5GUuWDJMdCwUfO9tRrOL0exPjb7lWMLRsaVS9ra8zdc/SM6MxTvYavVTpmdI11IYLwjz9dIHkGbXU89jtTskEOINB7zUGsR3l/PmDuZxrGIXj94AoFBjUmxixXEtqCVStOnqdP1+jajudDnj44ZsQHx+nanxihzSp7HOpDmly11CdTgF6vc4V7I3GOFy+7Htder1eh4cfvgnPP18ss4X8la1g5SpEkmhaJS8cvwdEocDp9yZIq3I1ORkZSWje3PdHTRCAF18sgcPhxE03Zbjd17NnGmbPvtntNqvVjkOHTkPK4cOn3abXrVY7Vq8u9krUczoFPPfcF1i+fI/rrK2mpk52Sl0kvmYPPdRPMvENABwO7+n3YIi0EizxUkW0rZIX6t8DolAISaLckiVL8N577+H48eNISkrC7bffjmXLliE1NdW1zfHjxzF58mQUFRUhPT0d8+fPx4QJE1Ttn4lygQllR6/+/V+VPKNOTTXBYrGp2ofBoMcTTwxwTZf76pAmdnSr/3/f3dTUys8fjUGDOrnWcE9Ofkb2EkB19eygvbaRWoKlVfOfUGFnO4pWYUuU27VrF2bOnInS0lJ88MEH+OqrrzBq1CjX/Xa7Hb/4xS+QkpKCkpISPPXUU5g8eTI+++yzUAyvyZJbsS3YlM6o1QZ0oD6oLV++B/PmbQdQPwMgF8w8r2dnZCRBH4RPu8GgdwV0oP417NUrXXLbnj3TgvraipcPxBkF8fKB+HqEg9IMiNjbPdKF6veAKBRCck39448/dvv3qlWrMHDgQJw/fx4tW7ZEfn4+Tp48iX379iEpKQk33HADPv/8c6xZswbDhnlnBdvtdjgcVxJcbDb1gYFCL5gNWMRgMX/+YACA/EST++1Wqx3ORs4G63TAjBn9vVa927fvlOT2+/adgtVqD0qw8BU8588fHJagpCaLPNZyB4giWVjm7Kqrq2E0GpGQkAAA2Lt3L7KyspCUlOTaZtiwYSgulk5AWrx4Mcxms+snOTk5JOOmwCidUQeiYTc5tdez5WYK5Iid4hqWns2e7V169u23P4Zk6ddILcESs8ilMIucKPRCHtQvX76MhQsXYuzYsTAY6v8YVFVVIS3NfXnM1NRUWCwWyX08+eSTsFqtrp8zZ85oPm5qnGCmbojBwp+AIjdFLmfmzAHYtWsCqqtno6xsOqqrZ7sazbgLzdpNkRo85Zrf6HTAlCn9OKVNFGIhDep1dXW4//77AQDPPvus63Z//+DHx8fDZDK5/VDkUjqjBrw7pykJtJtcSooZOTntfO5fpwNmzuyPZ58d4QrgSp9PcelXKcFc+lXtsYYjM16quY4gAC+9VOozCz7SMvmJol3IgrrT6cS4cePw9ddf49NPP0Vi4pUzi/T0dFRVVbltb7FY3LLjKXopnWWaTAbMnDnAbZo7O7ut5LYGg75R3eQKCsZ5BfaMjETXc5vN8Zg9+2Y888xtqsu0zOZ4zJw5QHK8M2YMCOqZqtKxhrOsTFxQ55FHsty+dCgl8kVrGRxRpAtJSZsgCHjwwQdRWFiIwsJCtGnTxu3+Dz/8EKNGjYLFYnEF+7Fjx+L8+fPYtGmTz/2zpC3y+Sp7qqg4j507TyArqy369n1ZZp31OFRXz5EMlNXVVhw+fBo9e6YjJcWsuBDKF1+cxPr1BzBmTB8MGNBBsqRJTZmW+BypqQmSHdzy8nJhsVwK+mIsgY5XS/6upR7u8RLFAqnYF5KgPnnyZGzYsAFbtmxBx44dXbenpqYiLi4OtbW16NGjB2688UYsWLAAxcXFmDJlCvLz8yWz3z0xqEe+mhoHhgxZ51arnpPTDp98cj9uv/1tnz3JRQ1rzwHv2m2jMQ69e7fBoUOnvWq5L16sRfv2z+HSpStTvQkJ8fj++5lo1erKUra+AlRl5ROyQby62irbplWrevJIaE7iz5oBkTBeolgQttarf/3rXwEAOTk5breXl5cjMzMTzZo1w5YtWzB58mT069cP6enpeOmll1QFdIoOTz9dgJKSH9xuKyn5AT16vIDKSvWZ2y1aNHf7t1Qb2YZfEBq201y7dq9bQAeAS5fsaN/+OVy8mOe6zVem+ezZWyXbvdrtdXjkkSwsXPg5Vq4sCllLz0goK/NnLfVIGC9RrGLrVdKcP61XfTly5GFcf32a3/uNjwfsCrlYX389Fd26pfjcr1LDGV/C0do2lGe+aqfUAx1vNK0tTxQKbL1KYRHMxWcC3a9SQAeA/Pz/uP5fKdP8gQd6BXwsWtWT+1MFoCW1SYv+jpdJdUTqsUsbaU5patYfBoPerUQsWPsFgDvu6Or2bzEQiUudms3xmDYtG3l5uXjrrUMBn6lrVU8uN95gNSdRc5bsT1tZf8Yr110P0OZyBlE04/Q7hYTc1Gx6eoKqa+o6HfCHPwzEsmW3+dyvvxIS4t2uqTekNtPcl8Zkdvsz7Rzs5iT+NJEJZHrc13gj5dICUSTi9HsjcJGMeoG+DnJTs8ePT/OqHc/Obos//MG9dl1qidaG+xW3rc9+V796nJj9Lqe62oo9e06iutoqeyy+mEwGr2loNa9jINPO/jQnUTMGNU1kGjM97mu8kbo8LlGkYlD3gdfz6jX2dRCnZi2WWSgrmw6LZZbMsqtXiJNI/kwmCYKA06f9y6aXGsPFi7Vo23YFOnVahQce2IhOnVahbdsVuHix1u1Yjhx52K8yNX9eR626sqkdg9oObFp2j8vISILRGCd5n8lk4NryRB44/e4DF8mop9XrINdn3ZPccwVj+j0jIxE//PCE221t266QvCwgtW1OzivYu/cHr20bEscPQNMMcTXUvpdqas/btEnUfHpc7jOSk9MORUUTG7VvfzEDnyIJp9/9FAu9ooMhmK9Dwynf6mqr6kVnpJ5Lblz+qqy8iIqK865/V1Scl73O77mtUq/4hpxOAatXF6t+HbWadvbnvVTTRKax4/R1CUDp9T18+HTIfgc5Y0fRgkFdAa/n1QvG6yD1R3HatI/9GofncwWzVG7XrgrX/+/ceUL1tpWVP6Gmpk7Vc9hsDtWvoxZd2RwOJ2bM+ET1GNSUnimNEwDuvfc91NR4P5/aIKn82XOE7HdQy0sMRMHEoK4gUttdhlowXgepP4r/+MeXfo3D87kyMpJkO6T565ZbrixfPGhQJ9Xb+jMGk8mg+nXUovZ83rzteOWVfbL3S72XvmrP5cYpKin5AUOGrJMci5ogGQm/g5yxo2jCoK4gUhb1CLfGvg5K0+Rq267KPZdO5Q5yctohI0M6AGRkJKJjx5auf3fs2FL1tmrHoNfrMH16jl+voz8d6HwR3wO5DBq5MahJcFy06FZMnXqT7HMXF//XrXrAnyAZCb+DnLGjaMKg7kMw/7BGs8a8Dkp/FAUB6NPHvQRNLGnz9VyVlT+puqaZk9MOBQXjcPz4NK9gnZGRiOPHp3k9Ru22asbQcPz+vI6BVAzIXaP2dali0qQbFd9LpdIzg0GPkSOvk30sABw5cqW1sr9B0rNsUapEUEuRMFtApBZXlPPBn1WyYlljXgdfzT52734QVqsdR45U4YYb0pCSYgYA/OlPQxWfS2m/RmMcNm68Fzfd1Na1P4fDiTFjeuP554tRU+OA0WjAmDG9YTR6/xokJjbDDz88gYqK89i1qwK33NLR6wxdHIPRGCd5Xd1o1KO0dDI6d3YPhv6+jmJAVeJrkRhfq+8lJjZT3L8vvXoprw1www1prv/3p/lLQ/6UOAYzS12cLZCqGGhKM3YUHXimrpI/i3rEskBeBzVTqCkpZgwZkukKwGqeS2m/jz3WH7ff3tVtf+J1XDFxq6bGd7JTx44t8fvf95QM6OIYWreWLqNs3dqM669Pkxx/sD9Pvq5R+7r2vXJlUaOSvlJSzIqXLDzfV3+m1K+8b/VfnGpq6mTfN62y1DljR9GCdeoUEuKZpNRa343pMa52v1rVfVdXW5Gaulz2fotllltAC4Svs061x+ZwODFnzlY891yR5PME+jpYrXZ8++1ZZGW9KpnpbjIZUF09222/Wr1vWq8rEexleAMdA2vlCZCOfQzqFFJa/VH0tV81C6kE0sN7+/ZyDBu2Xvb+HTvGYsiQTL/3C6hfd92fYwvm6+A5PiVy+w3m+xbr68T7sw4/NQ1cfIbCTqvLGL72q1Wykz/Xkv2lRdlXMF8Hz/HJUdpvMN+3WM9SZ608qcGgTk2CVqVRKSlmr4Y0opycdgFPvWtV9qV2WzUrvalZza+xr68/xxbLWeqslSe1GNSpyQikNKq62ort28vd6qw9FRSM8wrsYhldoAIt+1KTyKW0bTBWehMFq/QsLy8Xkyb1RbNm9YG9eXO9ZNe7ysqf8MgjWZrWtPvTpTCYnR1jfRaiqQhFt0+WtFGT4XA4UVDwndv0ZUHBd3A4nF7XJGtqHBgyZJ3b2vRioJYqgQs2f8u+/Ck5VNrWM9FMnOIF4JZo5qtEDvCvu54U8RryypV7UFt7ZV+XLzuxfv1BzJs3CEajwe06s9EYh6ystv+/LrzDLQEvGGNRcz1bi2vfyp8HdquLdKHMh+CZOjUZnkEaqF/tTGoZU622VSvQywX+5Cx4bhuMKf+GlErP1BCvITcM6KLKyou49to1XteZa2rqUFLyA6ZMuUn1gj3+jEXN9Wwtrn2bzfGy+Rs9e6ZHdQJgUxDKfAhmv1OT4E/pmVbb+kurMkA5/mbGe45PTiCZ50qZ7A0ZjQbJMrpgZrv7k1WvVQa+1WpHcvIzkoscSZUMUuTQsiqD2e/UZPlqj9pwGVOttvWXOE1+4sTj2L59DE6ceDwoZ51y/E00a7iM7fbtY2T3a7XaUVz8vWTgD3RZW5FUQBf3G6zrzP5cz9bq2rdSN0CbLTjd6kJxvbcpCnU+BIM6NQn+lJ5pta2/xKS1jh1X4tZb16Njx5Wa9vBuzJR/Tk57xRast9663i3pzldCnq+WriK5/IZgZrv7WzJoNMZJbmsyBX7tW8vMfvaK11aoqzIY1KlJ8Kf0TKtt/RWOuuRAl0NVc4294fgbu6wtUL/87GOPad/Bzd+Swd6920jup1evwK99a1WSCbD+XWtavndSQnZNfcOGDXjhhRdQWlqKCxcuwG63w2C48u1Fqn3l/v370adPH5/75jX1wFRXW3Ho0Gn06pXe6KVMo4E/Ge1abatWKFZHU1puNJCV/9SuMCeetahZ1nbevO1YteoLXL7sftYodswTs9+1zjtQm72s/L4ZYLFIX/tW87uoRY6FFp8zLmPrTav8GKnYF7KSNqvViltvvRXDhw9HXl6e5DbvvvsucnNzXf9OSUkJ1fCalHCXa4WLwaDHkCGZOHjwFGpq6mA0xmHIkEzJXyqj0YCioomorrZ6dY9rzH7VUnMdLpBlbQF1AUpNZ7hAKQX8hscmXrN/5JEsdOnyPOrqrpx/WCyXUFPjQGJis4jqoqj8vjm83jd/fhe16BgZzM8Zl7GVF8punyHPfi8oKMDQoUMlz9S3bt2K4cP9b7rAM3X/9O//qlcJFlD/x6SoaGIYRhQaWjX70GK/Wp6ph/J1kGIy1WesS/3l0emAixfz3I4tPn4hHA7vjQ0GHez2+QGP1x9qXzOr1Y4WLf7s9gWk4XjPn/+j27GF+3fRarWjZculktfPDQY9zp+fq/pzpnUzHfIW8dnv48aNQ1paGnJzc7FlyxbZ7ex2O2w2m9sPqVNdbZX8IwLU11YrrZwWzbRaZlOr/Wp1HS7Ur4MnvV6HiRP7SgZ0ABAEuI3hwIFKyYAOAA6HgAMHKgMarz/8fc2kLiX+/z1u/4qU30X58zr153tcxjZyRExQX7x4Md5//33k5+dj8ODBuOuuu7Bt2zbZbc1ms+snOTk5xKONXlqWYEUyLUuNtCpX0aKHdzheB5E4/rvu6qa4XcPP4DvvfKm47d//fkTzMix/S9rkssYdDqfbtpHwu1hZ+ZPkrAJQ/6VJ7eeBy9hGjoi5gNrwOnu/fv1QUVGBVatWSU7HP/nkk5gzZ47r3zabjYFdJS1LsCKZv8uuhnu/gDbX4cLxOphMBpSUTELnzvWr1/k6A234GRw16nosXbpbdtvnny/GsmV7NL1+689r5s+2kfC7GKzPg5a/B+SfiDlT99SvXz+Ul5dL3hcfHw+TyeT2Q+poWYIVybSazg5FuUow29WG43WYPj0H11+f5tq3P5/BPn0yYDDIl7Vdvly/IIuWZVhadMEDIuN3MVifh1CXbZG8iA3qBw8eRGZmZriHEZO06CoWDbSYztZyv1oJxnilVh/zpwuems+g+BxlZY8pBnaR0yng+eeL/J6KV7OSmj/H5s/rGwm/i8H6/Eby74G/q+X5s72aTo6hFLLs97Nnz6KiogKlpaWYNGkSSktLERcXh65du6KgoAAWiwU5OTkwGAzYsGEDnnzySWzevBl33HGHz30z+z0wasq1YlEgNdjh3K9WglGL3nDaG6hfyOT554tcpX2PPdZfcUpc6jPo+RxxcUCd9Aqpkvr0SccXX0z0WZ4ZSOc1f45NzesbSeWlwfr8RtLvgb9ldv5sHwnvnVTsC1lQX7duHcaPH+91+44dO1BTU4M5c+agrKwMer0e1113Hf74xz9i5MiRqvbNoE4UGkplSwCCUtKktjROiZqSMH9KsLQq1wp3SVus8/d982f7SHjvwhrUtcSgTqQ9pdp5tavENeY5/KXUIS8SOq9p2eGP/H/f/Nk+Ut67iK9TJ6LIpVS2ZLM5glLSpLY7mxpKJWGR0HktEkraYpm/75s/20fye8egTkSqKHWbMpkMQelEpbY7mxpKJWH+dl7TostWJJS0xTJ/3zd/to/k945BnYhU8VW2pmVplBSdDgGXhGlVpuaPSChpi2X+vm/RVo4oh0GdqIkRy3UqKs77XYqjVLbkT9mXSKocyPM5DBInTzod8MMPT8iWhH388WjZkiTx+PPyclWXYAXr2DxFQkmbyN+yr2jg7/sWbeWIUiJmRTki0pZSK1O1pThKq9yJy6OKubdKObi+yoEaPofRaMC1167BpUtXgo3ZHA+j0eDVTa979xSsWlWE9u2fky258yxXqqx8AtXVVlUlWME4toYcDicqKs673VZRcV52qVktsLvaFf6s4uhPJ8dQYvY7URPhq1SssaU4WpUDJSYucQvoooSEeFy86N7GWauSO62OrW3bFais9E60y8hIxA8/PKE4pmCJ5e5qsXxsAEvaiJostaVigZbiaFUOdOxYNbp3f0F226+/nopu3VJ8jqExJXdaHVtFxXl06rRKdtsTJx5Hx44tZe8PBi1b/IZbLB+biCVtRE2U2lKxQEtxtCoH2rz5uOK2+fn/UTWGxpTcaXVsO3eeUNx2164KxfuDIZa7q8XysSlhUCdqAtSWigVaiqNVOdCdd16ruO0dd3RVNYbGlNxpdWyDBnVS3PaWWzoq3h8MWpXrRYJYPjYlDOpETYCaUrHGlOJoVQ7UrVsKEhKkp0gTEuJdU+++xtCYkjutjq1jx5bIyJAOLBkZiZpPvQOx3V0tlo9NCYM6URMhlusYjXFe9wWjFEercqDvv5/pFdgTEuLx/fcz/RpDY7qIaXVsx49P8wrsGRmJOH58ms8xBUskd1drrFg+NjlMlCNqYsTriQaDHt9++2PQS3H86dLlTznQsWPVyM//D+64o6vbGbq/Y/C8z2q1o7LyJ2RkJPkcr9R+5R7vz7FVVJzHrl0VuOWWjj7P0KurrTh06DR69UoP2/vmaz9qX89Q0bJzXDiPl9nvRET/r7H12aGu746EVp9Kmlq9eyQcL7PfiYj+37x527F8+R5XhrTN5sDy5Xswb972kDzeX54BHQCKi/+LIUPWafJ8/gr16xFukXq8PFMnoiansTXMoa6BjpRWn3KaQk14Q5FyvDxTJyJC42uYQ10DHcmtPoGmVxMeycfLoE5ETU5ja5hDXQMdya0+gaZXEx7Jx8ugTkRNTmNrmENdAx3JrT6BplcTHsnHy6BORFEh2K1BG1vDHOoa6Eht9SnS+vXwfP/D3So2UmvgmShHRBFN69KhxtYwa1kD3ZD4Ojz/fDFqahwwGg147LHIKxkL9uvh+f4bjXHo3bsNDh06HRGlc6F6/6WwTp2Iok6st89Uq6m+Dr5aBgNN43WQwqBORFElUkqHwq2pvg5qWwYDsf06yGFJGxFFlUguHQqlpvo6qG0ZDMT26+APBnUiiliRXDoUSk31dVDbMhiI7dfBHwzqRBSxIrl0KJSa6uugpmUwEPuvgz9CFtQ3bNiAYcOGoWXLltDpdHA43KdUjh8/jqFDh8JkMiEzMxOvv/56qIZGRBEsUkuHQi1aX4fGlp55HrfJZEBOTjuYzfVn8Gpeh3CXv4VSyBLl3n77bZw4cQJ6vR55eXmw2+0wGOrfFLvdjh49eqBPnz5YsGABiouLMWXKFHzyyScYNmyYz30zUY4o9oWzdCiSRMvrEOxSRKmWub5eh0jopKaliMh+LygowNChQ92C+ocffoh77rkHFosFSUlJAIAxY8bgwoUL2LRpk899MqgTEUWWSCjBi4QxaClis9/37t2LrKwsV0AHgGHDhqG4uFhye7vdDpvN5vZDRESRwWq1Y/XqYq/acqdTwJo1e0MyDR4JYwiHiAjqVVVVSEtzb0iQmpoKi8Uiuf3ixYthNptdP8nJyaEYJhERqRAJJXiRMIZwiIig7u8VgCeffBJWq9X1c+bMGY1GRkRE/oqEErxIGEM4RERQT09PR1WVez9gi8WC1NRUye3j4+NhMpncfoiIKDJEQgleJIwhHCIiqGdnZ6O0tBQXL16ZDtm+fTtycnLCOCoiIgICKwmLhBK8SBhDqIUs+/3s2bOoqKhAaWkpJk2ahNLSUsTFxaFr165o1qwZevTogRtvvNGtpC0/P58lbUREYRKMkrBIKMGLhDFoIawlbevWrcP48eO9bt+xYweGDBmCY8eOYfLkySgqKkJ6ejrmz5+PBx98UNW+GdSJiIIv1kvCol1E1KlrgUGdiCi4mmpnuGgSsXXqREQUWZpqSVi0Y1AnIiIvTbUkLNoxqBMRkZemWhIW7dQ1qiUioiZHLP0Sl1U1m+MxbVp2TJeERTsmyhERkaJYLQmLdlKxj2fqRESkyGyOR5curcM9DFKB19SJiIhiBIM6ERFRjGBQJyIiihEM6kRERDGCQZ2IiChGMKgTERHFCAZ1IiKiGBETderi+jk2my3MIyEiIgoNMeY1XEMuJoJ6TU0NACA5OTnMIyEiIgqtmpoamM1mADGyTKzT6cS5c+dgNBqh0+l8PyBIbDYbkpOTcebMmZhbnpbHFp14bNGJxxa9wnl8giCgpqYGrVq1gl5ffzU9Js7U9Xo9rrrqqrA9v8lkiskPK8Bji1Y8tujEY4te4To+8QxdxEQ5IiKiGMGgTkREFCMY1BvBYDBgwYIFMBhi4iqGGx5bdOKxRSceW/SKtOOLiUQ5IiIi4pk6ERFRzGBQJyIiihEM6kRERDGCQd2Hp59+Gjqdzu1n5MiRrvuPHz+OoUOHwmQyITMzE6+//nr4BuunzMxMr2PT6XR49913AUDyvgMHDoR30Ao2bNiAYcOGoWXLltDpdHA4HG73q3mvli5dirZt28JsNuOXv/wlTp06FarhK1I6tgMHDuCee+5B27ZtkZCQgL59++K9995ze7yvz3E4+Xrf1HwOo/F9W7duneSx9ejRw7VNJL9vS5YswY033ojExERkZGRg/PjxsFgsbttE6++cr2OL5N85BnUVsrOzUVlZ6fpZt24dAMBut+MXv/gFUlJSUFJSgqeeegqTJ0/GZ599Ft4Bq1RSUuJ2XM8//zxMJhNuv/121zbvvvuu2zY33HBDGEeszGq14tZbb8XcuXO97lPzXr3xxhtYtGgR1q5diz179uDChQsYNWpUKA9BltKx7d+/H+3bt8c777yDw4cPY/z48bj33ntRUFDgtp3c5zjclI5NpPQ5jNb3bdSoUW7HVFlZiY4dO+I3v/mN23aR+r7t2rULM2fORGlpKT744AN89dVXbq97NP/O+Tq2iP6dE0jRggULhJtvvlnyvg8++EBo3ry5cOHCBddtDzzwgPCrX/0qRKMLruHDhwu///3vXf8GIGzdujWMIwrMjh07BACC3W533abmverbt6+Ql5fn+ndZWZkAQNi/f38ohq2K1LFJGTFihDBjxgzXv5U+x5FC7th8fQ5j5X3btWuXAEA4fvy467ZoeN9Ee/bsEQAI586dEwQhdn7nBMH72KREyu8cz9RVOHjwINq0aYNrr70WU6dOxY8//ggA2Lt3L7KyspCUlOTadtiwYSguLg7XUAN28uRJbN++HePGjXO7fdy4cUhLS0Nubi62bNkSnsEFga/36vLlyzh48CBuvfVW1/1dunRBZmZmVL6f1dXVXksny32Oo4Hc5zCW3rd169Zh4MCBuOaaa9xuj5b3rbq6GkajEQkJCQBi63fO89jktomE3zkGdR/69++P9evXY+vWrVixYgU+//xz/OpXv4IgCKiqqkJaWprb9qmpqV7XlaLBW2+9hbZt22LYsGGu2xYvXoz3338f+fn5GDx4MO666y5s27YtjKMMnK/36syZM3A6nZLbVFVVhWycwfD+++/j6NGjGD16tOs2pc9xpFP6HMbK+2az2fDPf/7T60t1tLxvly9fxsKFCzF27FjXIiyx8jsndWyeIul3LjKWwIlgDa8v9+zZEz169EDXrl3x73//O+J+sRrjzTffxAMPPODq9AMAeXl5rv/v168fKioqsGrVKgwfPjwcQ2wUX+9VrLyXe/bswfjx4/Hqq6+ic+fOrtuVPsc33XRTOIaqmtLnMFbet40bN6K2thb33HOP2+3R8L7V1dXh/vvvBwA8++yzrttj4XdO7tgairTfOZ6p++nqq69Gq1atUF5ejvT0dK9vlBaLBampqWEaXWD27NmD48ePe50leOrXrx/Ky8tDM6gg8/VepaSkQK/XS27jeSYRqUpKSvDzn/8cy5cvx+9//3vFbRt+jqNNw89hLLxvQP3U+8iRI9GyZUvF7SLtfXM6nRg3bhy+/vprfPrpp0hMTHTdF+2/c0rHJorE3zkGdT9VVFTg3LlzyMzMRHZ2NkpLS3Hx4kXX/du3b0dOTk4YR+i/N998EwMGDMC1116ruN3BgweRmZkZmkEFma/3qnnz5ujduzd27Njhur+8vBzfffddVLyf+/fvx89+9jPMmzcPkydP9rl9w89xtGn4OYz29w0A/vvf/+Kzzz7z+aUaiKz3TRAETJw4EUVFRdi6davX9eRo/p3zdWxABP/OhTw1L8rMmjVLKCwsFMrLy4Xt27cL/fr1EwYMGCDU1dUJly9fFq6++mrhd7/7nXDkyBHhtddeE+Lj44Vt27aFe9iq2Ww2oVWrVsJf/vIXt9s/+ugj4fXXXxe+/PJL4dixY8Kf//xnQa/XCx9//HGYRurbmTNnhP379wuvvPKKAEAoLS0V9u/fL/z000+q3qvXXntNSExMFDZs2CAcOHBAGDp0qJCbmxvGI7pC6dgOHz4sJCcnC4888ohQWVnp+mmYqav0OQ43pWNT8zmM1vdNtGTJEqFdu3aS70Ukv28PPfSQkJKSIhQXF7t97hwOhyAIQlT/zvk6tkj+nWNQ9+Gee+4R2rRpI8THxwudOnUSHnroIaGqqsp1/9dffy0MHjxYaN68udCxY0fh1VdfDeNo/ff3v/9dMBqNwo8//uh2e35+vtCrVy8hISFBSEpKErKzs4WNGzeGZYxqvfHGGwIAr58dO3YIgqDuvVqyZInQpk0bwWg0CnfeeadQWVkZ4qOQpnRsCxYskLxv7Nixrsf7+hyHk9Kxqf0cRuP7JurWrZswd+5cycdH8vsmdVwAhPLyctc20fo75+vYIvl3jl3aiIiIYgSvqRMREcUIBnUiIqIYwaBOREQUIxjUiYiIYgSDOhERUYxgUCciIooRDOpEREQxgkGdiIgoRjCoE0WRIUOGYN68eeEeBhFFKAZ1IiKiGMGgTtREOZ1OOByOcA9DU5cvXw73EIhCikGdKMrU1tZi8uTJSEpKQmZmJv7xj3+47svPz0fPnj3RvHlzdO3aFevXr3fd991330Gn0+G9995DdnY2jEYjDhw4gH379uGWW25BQkICWrdujcGDB+PcuXOux61evRpdunSB2WxGVlYWCgoKXPetW7cO7du3x1tvvYUOHTogMTERkyZNQm1trWub06dP4+6770ZiYiJat26NBx98EJcuXQIAbNiwAZ06dXJt++abb0Kn0+Ff//oXAKCurg5JSUkoKioCAFitVkydOhWpqalo1aoV7rzzTnz33Xeux48bNw6jR4/G3LlzkZKSgrvvvjsorzlRtGBQJ4oyL7/8Mrp37479+/dj3LhxGD9+PKqqqvDdd99h5MiRGDlyJA4dOoTHH38cEyZMwO7du90e/9RTT2HRokX46quvcM011+D+++/HzTffjMOHD2PXrl0YPXq0a9vXX38dzz//PF588UUcOXIEY8aMwc9//nO3QHrmzBm89tpr2Lx5MzZu3IgtW7ZgyZIlrvsfeOABnDx5Ep9//jk++ugj7Ny5EzNmzAAA5ObmoqKiAhUVFQCAwsJCJCcno7CwEEB9z+q6ujr069cPADBlyhR88803yM/PR3FxMdLS0nDXXXehrq7O9XwffPABbDYbdu/ejeeeey64Lz5RpNO8DxwRBc3gwYOFO+64w/Vvu90umM1m4aOPPhLmzJkjZGVluW0/atQo4e677xYEQRDKy8sFAMK6devctklMTBR27twp+XydO3cWPvroI7fbbrvtNuF//ud/BEG40lr06NGjrvtfeeUVITk5WRAEQTh69KgAQPjyyy9d9+fn5wsGg8HVe7pbt27C22+/LQiCIFxzzTXCwoULhUGDBgmCIAgrVqwQhg4d6hp/s2bNhLNnz7r2VVtbK5jNZqGwsFAQBEEYO3as0KVLl4joN04UDjxTJ4oyPXv2dP2/wWBASkoKqqqqcOzYMfTv399t2wEDBuDYsWNut/Xt29ft348++ihGjBiBkSNH4oUXXkB1dTUA4OLFiygvL8eoUaOQmJjo+tmxYwe+/fZb1+OTkpLQvXt317+zs7Nx5swZnDlzBseOHUNSUhJ69OjhNiaHw4GysjIA9WfrhYWFOH36NE6fPo2pU6eitLQUtbW1KCwsRG5uLgDgyy+/hN1ud03zi9P5NpvNbTy9e/eGXs8/bdQ0GcI9ACLyT3x8vNu/dTodnE4nBEFQ9Xiz2ez27z//+c8YPXo0Nm/ejLfeegvz589HUVERWrRoAQD43//9X1x//fVuj0lKSnJ7fjlSY/LcPjc3F8888wx27tyJgQMH4qqrrsI111yD4uJi7Nq1C1OnTgVQ/yXDZDLhwIEDXvtMS0uTPT6ipoRfZ4liRPfu3V0JZaIvvvjC7Sxazg033IC5c+eiqKgIbdq0wcaNG5GWloY2bdqgoqICXbt2dftJT093PfbChQtuswElJSVITk5GcnIyunfvjp9++glfffWV6/49e/bAYDDg6quvBlAf1I8ePYpNmzZh0KBBAIBBgwbh5Zdfxrlz51yzD71794bVaoXNZvMaj/gFhKipY1AnihEPP/wwDh48iPnz5+P48eNYu3Yt3nvvPTz++OOyj7HZbJg+fToKCwtx4sQJfPzxx6ioqEC3bt2g0+mQl5eHp556Cm+88QbKyspQWlqKpUuXYvv27a59GI1G13N/9tlnWLBggevsunv37hgxYgQmTJiAf//739i9ezemT5+O8ePHo2XLlgCAzp07o23btnjnnXdcU+25ubn4xz/+gb59+yIxMdG1r9/85je499578emnn6K8vBw7d+7EtGnTcObMGY1eVaLowul3ohjRqVMnbNq0CbNnz8bSpUvRsWNHvPbaaxg4cKDsY+Li4lBVVYX77rsPFosF7dq1w/z58/GrX/0KADBt2jQ0b94cy5Ytw+TJk5GcnIwBAwbg17/+tWsfycnJrqz4c+fO4d5770VeXp7r/vXr1+ORRx7B4MGDYTAY8Nvf/hYrV650G0dubi42bdqE7OxsAPVn6nV1dbjlllvctvvb3/6GJ598EhMmTEB1dTXatWuHESNGcMqd6P/pBLUX4oiIPKxbtw7z5s3D999/H+6hEBE4/U5ERBQzGNSJiIhiBKffiYiIYgTP1ImIiGIEgzoREVGMYFAnIiKKEf8HPWWJVt4Z0rgAAAAASUVORK5CYII=\" class=\"pd_save\"></center>\n                        \n                    \n                \n        </div>"
          },
          "metadata": {},
          "output_type": "display_data"
        }
      ]
    }
  ],
  "metadata": {
    "celltoolbar": "Edit Metadata",
    "kernelspec": {
      "name": "python3",
      "display_name": "Python 3.10",
      "language": "python"
    },
    "language_info": {
      "name": "python",
      "version": "3.10.9",
      "mimetype": "text/x-python",
      "codemirror_mode": {
        "name": "ipython",
        "version": 3
      },
      "pygments_lexer": "ipython3",
      "nbconvert_exporter": "python",
      "file_extension": ".py"
    },
    "colab": {
      "provenance": []
    }
  },
  "nbformat": 4,
  "nbformat_minor": 0
}